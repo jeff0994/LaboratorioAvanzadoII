{
  "nbformat": 4,
  "nbformat_minor": 0,
  "metadata": {
    "kernelspec": {
      "display_name": "Python 3",
      "language": "python",
      "name": "python3"
    },
    "language_info": {
      "codemirror_mode": {
        "name": "ipython",
        "version": 3
      },
      "file_extension": ".py",
      "mimetype": "text/x-python",
      "name": "python",
      "nbconvert_exporter": "python",
      "pygments_lexer": "ipython3",
      "version": "3.6.9"
    },
    "colab": {
      "name": "LaboratorioAvanzadoII.ipynb",
      "provenance": [],
      "collapsed_sections": [],
      "toc_visible": true,
      "include_colab_link": true
    }
  },
  "cells": [
    {
      "cell_type": "markdown",
      "metadata": {
        "id": "view-in-github",
        "colab_type": "text"
      },
      "source": [
        "<a href=\"https://colab.research.google.com/github/jeff0994/LaboratorioAvanzadoII/blob/master/LaboratorioAvanzadoII.ipynb\" target=\"_parent\"><img src=\"https://colab.research.google.com/assets/colab-badge.svg\" alt=\"Open In Colab\"/></a>"
      ]
    },
    {
      "cell_type": "markdown",
      "metadata": {
        "id": "zC5bb9FVJY8H",
        "colab_type": "text"
      },
      "source": [
        "#**Universidad de Costa Rica**\n",
        "## **Facultad de Ciencias**\n",
        "##**Escuela de Física**\n",
        "\n",
        "\n",
        "\n"
      ]
    },
    {
      "cell_type": "markdown",
      "metadata": {
        "id": "JgQc6QsBJz2o",
        "colab_type": "text"
      },
      "source": [
        "# Proyecto Laboratorio Avanzado\n",
        "\n",
        "\n",
        "### Hoja de prueba:Empleo de métodos supervizados de Machine Learning para correción de errores cuánticos.\n",
        "\n",
        "### Fecha 8/04/20202\n",
        "\n",
        "#### **Profesor** Ph.D Mauricio Gutierrez\n",
        "\n",
        "#### Autor David ¿Cual es tu apellido? ....\n",
        "\n",
        "#### **Estudiante**  Yefry López\n"
      ]
    },
    {
      "cell_type": "markdown",
      "metadata": {
        "id": "st8TPs3vJ7oK",
        "colab_type": "text"
      },
      "source": [
        "### Estructura.\n",
        "\n",
        "* Prueba con Regresión Lógistica\n",
        "* Prueba con Random Forest\n",
        "* Prueba con Red Neuronal Recurrente LSTM\n",
        "\n"
      ]
    },
    {
      "cell_type": "markdown",
      "metadata": {
        "id": "WvnDeQ0BLDSi",
        "colab_type": "text"
      },
      "source": [
        " #### Importación de paquetes necesarios"
      ]
    },
    {
      "cell_type": "code",
      "metadata": {
        "id": "RikAR0wHJDGz",
        "colab_type": "code",
        "colab": {}
      },
      "source": [
        "import json\n",
        "import os\n",
        "import numpy as np\n",
        "import pandas as pd\n",
        "import keras\n",
        "from keras.models import Sequential\n",
        "from keras.layers import LSTM\n",
        "from keras.layers import Dense, Dropout\n",
        "from sklearn.model_selection import train_test_split\n",
        "from sklearn.preprocessing import MinMaxScaler, StandardScaler"
      ],
      "execution_count": 0,
      "outputs": []
    },
    {
      "cell_type": "markdown",
      "metadata": {
        "id": "ugRfGQ55LOEQ",
        "colab_type": "text"
      },
      "source": [
        "#### Montar el Google Drive en el Colab"
      ]
    },
    {
      "cell_type": "code",
      "metadata": {
        "id": "wPoLoSTdXH2d",
        "colab_type": "code",
        "outputId": "a0221d02-664b-4eca-e2a5-2e9f6a0ccf35",
        "colab": {
          "base_uri": "https://localhost:8080/",
          "height": 122
        }
      },
      "source": [
        "from google.colab import drive\n",
        "drive.mount('/content/gdrive')\n"
      ],
      "execution_count": 0,
      "outputs": [
        {
          "output_type": "stream",
          "text": [
            "Go to this URL in a browser: https://accounts.google.com/o/oauth2/auth?client_id=947318989803-6bn6qk8qdgf4n4g3pfee6491hc0brc4i.apps.googleusercontent.com&redirect_uri=urn%3aietf%3awg%3aoauth%3a2.0%3aoob&response_type=code&scope=email%20https%3a%2f%2fwww.googleapis.com%2fauth%2fdocs.test%20https%3a%2f%2fwww.googleapis.com%2fauth%2fdrive%20https%3a%2f%2fwww.googleapis.com%2fauth%2fdrive.photos.readonly%20https%3a%2f%2fwww.googleapis.com%2fauth%2fpeopleapi.readonly\n",
            "\n",
            "Enter your authorization code:\n",
            "··········\n",
            "Mounted at /content/gdrive\n"
          ],
          "name": "stdout"
        }
      ]
    },
    {
      "cell_type": "markdown",
      "metadata": {
        "id": "NbT1alKJOTm6",
        "colab_type": "text"
      },
      "source": [
        "#### Cargar datos al Colab"
      ]
    },
    {
      "cell_type": "code",
      "metadata": {
        "id": "gTtdOrHwThbj",
        "colab_type": "code",
        "colab": {}
      },
      "source": [
        "#Para Test\n",
        "path_to_json = 'gdrive/My Drive/Datos/' #path\n",
        "json_files = [pos_json for pos_json in os.listdir(path_to_json) if pos_json.endswith('.json')]"
      ],
      "execution_count": 0,
      "outputs": []
    },
    {
      "cell_type": "code",
      "metadata": {
        "id": "WzB2izhOThbp",
        "colab_type": "code",
        "outputId": "a1a15e90-98bb-4fa3-8c04-f40d1c24381d",
        "colab": {
          "base_uri": "https://localhost:8080/",
          "height": 357
        }
      },
      "source": [
        "#Comprobar la cantidad de archivos cargados al Colab\n",
        "json_files "
      ],
      "execution_count": 0,
      "outputs": [
        {
          "output_type": "execute_result",
          "data": {
            "text/plain": [
              "['0.json',\n",
              " '1.json',\n",
              " '2.json',\n",
              " '3.json',\n",
              " '4.json',\n",
              " '5.json',\n",
              " '6.json',\n",
              " '7.json',\n",
              " '8.json',\n",
              " '9.json',\n",
              " '10.json',\n",
              " '11.json',\n",
              " '13.json',\n",
              " '14.json',\n",
              " '15.json',\n",
              " '16.json',\n",
              " '17.json',\n",
              " '12.json',\n",
              " '18.json',\n",
              " '19.json']"
            ]
          },
          "metadata": {
            "tags": []
          },
          "execution_count": 71
        }
      ]
    },
    {
      "cell_type": "code",
      "metadata": {
        "id": "3OY4QXdcThbt",
        "colab_type": "code",
        "outputId": "c1b206bf-6a35-409c-8254-a07763bfa073",
        "colab": {
          "base_uri": "https://localhost:8080/",
          "height": 163
        }
      },
      "source": [
        "json_text.keys() #Variable no existe Saber si los keys estaban en json #Utilidad Nula"
      ],
      "execution_count": 0,
      "outputs": [
        {
          "output_type": "error",
          "ename": "NameError",
          "evalue": "ignored",
          "traceback": [
            "\u001b[0;31m---------------------------------------------------------------------------\u001b[0m",
            "\u001b[0;31mNameError\u001b[0m                                 Traceback (most recent call last)",
            "\u001b[0;32m<ipython-input-6-4cf316db3371>\u001b[0m in \u001b[0;36m<module>\u001b[0;34m()\u001b[0m\n\u001b[0;32m----> 1\u001b[0;31m \u001b[0mjson_text\u001b[0m\u001b[0;34m.\u001b[0m\u001b[0mkeys\u001b[0m\u001b[0;34m(\u001b[0m\u001b[0;34m)\u001b[0m \u001b[0;31m#Variable no existe Saber si los keys estaban en json\u001b[0m\u001b[0;34m\u001b[0m\u001b[0;34m\u001b[0m\u001b[0m\n\u001b[0m",
            "\u001b[0;31mNameError\u001b[0m: name 'json_text' is not defined"
          ]
        }
      ]
    },
    {
      "cell_type": "markdown",
      "metadata": {
        "id": "qYqMmSbZO95R",
        "colab_type": "text"
      },
      "source": [
        "#### Prepocesamiento de Datos"
      ]
    },
    {
      "cell_type": "code",
      "metadata": {
        "id": "xain5sbiThby",
        "colab_type": "code",
        "colab": {}
      },
      "source": [
        "\"\"\" \n",
        "Crea 4 listas de Python x_correc , x_stab , z_correc y z_stab\n",
        "Las listas se irán llenando a partir de los archivos json cargados\n",
        "\n",
        "x_correc resulta en una lista de longitud 9 de lista que contienen los caracteres 'I' y 'X'\n",
        "z_correc resulta en una lista de longitud 9 de lista que contienen los caracteres 'I' y 'Z'\n",
        "\n",
        "Cada caracter simboliza un qubit (total 9 qubits), donde aparezca X y Z implica que el simulador interpreta que dicho\n",
        "qubit hay que hacerle la correción en X o Z\n",
        "\n",
        "Se usa simulador con código de superficie\n",
        "8 estabilizadores, 4 en X y 4 en Z\n",
        "Para cada estabilizador se mide 3 veces\n",
        "\n",
        "x_stab y z_stab da como resultado una lista de shape 20X50000\n",
        "\n",
        "Formato  z_stab[0][0] = [[Medición1],[Medición2],[Medición3]]\n",
        "         z_stab[0][0] = [[Estabilizador1,Estabilizador2,Estabilizador3],[Estabilizador1,Estabilizador2,Estabilizador3],[Estabilizador1,Estabilizador2,Estabilizador3]]\n",
        "\n",
        "\n",
        "\"\"\" \n",
        "\n",
        "x_correc = []\n",
        "x_stab = []\n",
        "z_correc = []\n",
        "z_stab = []\n",
        "final_errors = []\n",
        "for index, js in enumerate(json_files):\n",
        "    with open(os.path.join(path_to_json, js)) as json_file:\n",
        "        json_text = json.load(json_file)\n",
        "        x_correc.append(json_text['X_corrections'])\n",
        "        x_stab.append(json_text['X_stab_outcomes'])\n",
        "        z_correc.append(json_text['Z_corrections'])\n",
        "        z_stab.append(json_text['Z_stab_outcomes'])\n",
        "        final_errors.append(json_text['failings_total_NN'])"
      ],
      "execution_count": 0,
      "outputs": []
    },
    {
      "cell_type": "code",
      "metadata": {
        "id": "_qyCyQDPQCPz",
        "colab_type": "code",
        "outputId": "8329dc4c-ef5c-425b-b2f6-8451b4985011",
        "colab": {
          "base_uri": "https://localhost:8080/",
          "height": 68
        }
      },
      "source": [
        "print(\"Lenth of z[0]\",len(z_stab[0]))\n",
        "print(\"Se imprimen las tres corridas z[0][0] \",z_stab[0][0])\n",
        "print(\"Se imprime la corrida 1 de z[0][0]\" ,z_stab[0][0][0])"
      ],
      "execution_count": 0,
      "outputs": [
        {
          "output_type": "stream",
          "text": [
            "Lenth of z[0] 50000\n",
            "Se imprimen las tres corridas z[0][0]  [[0, 1, 0, 0], [1, 1, 1, 1], [0, 0, 1, 1]]\n",
            "Se imprime la corrida 1 de z[0][0] [0, 1, 0, 0]\n"
          ],
          "name": "stdout"
        }
      ]
    },
    {
      "cell_type": "markdown",
      "metadata": {
        "id": "1q19qgsuWVh3",
        "colab_type": "text"
      },
      "source": [
        "#### Interpretación \n",
        "\n",
        "Para la primer corrida en z[0][0], hay error en el segundo estabilizador <br>\n",
        "Para la segunda corrida en z[0][1] se detectan errores en los 4 estabilizadores <br>\n",
        "Para la tercer corrida z[0][2] se detectan error en el estabilizador 3 y 4  <br>"
      ]
    },
    {
      "cell_type": "code",
      "metadata": {
        "id": "uK3Ftw24Thb2",
        "colab_type": "code",
        "colab": {}
      },
      "source": [
        "# Hay corridas donde las mediciones son iguales, por tanto el simulador las obvia\n",
        "#Acá se rellena los que tienen solo dos mediciones iguales x\n",
        "for i in range(0,len(x_stab)):\n",
        "    for j in range(0,len(x_stab[i])):\n",
        "        if len(x_stab[i][j]) != 3:\n",
        "           x_stab[i][j].append(x_stab[i][j][0])"
      ],
      "execution_count": 0,
      "outputs": []
    },
    {
      "cell_type": "code",
      "metadata": {
        "id": "rm2yM8t9Thb7",
        "colab_type": "code",
        "colab": {}
      },
      "source": [
        "#rMismo caso que anterior celda\n",
        "for i in range(0,len(z_stab)):\n",
        "    for j in range(0,len(z_stab[i])):\n",
        "        if len(z_stab[i][j]) != 3:\n",
        "           z_stab[i][j].append(z_stab[i][j][0])"
      ],
      "execution_count": 0,
      "outputs": []
    },
    {
      "cell_type": "code",
      "metadata": {
        "id": "3_k3_8v9ThcA",
        "colab_type": "code",
        "colab": {}
      },
      "source": [
        "# Se agrupan los datos de los estabilizadores Z?\n",
        "dataz_stab =[]\n",
        "for i in range(0,len(z_stab)):\n",
        "    for j in range(0,len(z_stab[i])):\n",
        "        for k in range(0,len(z_stab[i][j])):\n",
        "            for l in range(0,len(z_stab[i][j][k])):\n",
        "                dataz_stab.append(z_stab[i][j][k][l])"
      ],
      "execution_count": 0,
      "outputs": []
    },
    {
      "cell_type": "code",
      "metadata": {
        "id": "JCTLWF3zThcE",
        "colab_type": "code",
        "colab": {}
      },
      "source": [
        "#Se agrupan los datos de los estabilizadores X?\n",
        "datax_stab =[]\n",
        "for i in range(0,len(x_stab)):\n",
        "    for j in range(0,len(x_stab[i])):\n",
        "        for k in range(0,len(x_stab[i][j])):\n",
        "            for l in range(0,len(x_stab[i][j][k])):\n",
        "                datax_stab.append(x_stab[i][j][k][l])"
      ],
      "execution_count": 0,
      "outputs": []
    },
    {
      "cell_type": "code",
      "metadata": {
        "id": "MpAsRHhbThcI",
        "colab_type": "code",
        "colab": {}
      },
      "source": [
        "numeric = [] #Tranforma True and Falsa de 1 a 0 Lo saca de la lista de la lista\n",
        "for i in range(0,len(final_errors)):\n",
        "    for j in range(0,len(final_errors[i])):\n",
        "        numeric.append(final_errors[i][j])\n",
        "numeric = np.array(numeric).astype(int)"
      ],
      "execution_count": 0,
      "outputs": []
    },
    {
      "cell_type": "code",
      "metadata": {
        "id": "Edy5h2kBaXHb",
        "colab_type": "code",
        "outputId": "d0c2b7f5-7fa6-4c4f-e331-a3320a68d226",
        "colab": {
          "base_uri": "https://localhost:8080/",
          "height": 34
        }
      },
      "source": [
        "numeric"
      ],
      "execution_count": 0,
      "outputs": [
        {
          "output_type": "execute_result",
          "data": {
            "text/plain": [
              "array([1, 1, 0, ..., 1, 0, 0])"
            ]
          },
          "metadata": {
            "tags": []
          },
          "execution_count": 81
        }
      ]
    },
    {
      "cell_type": "code",
      "metadata": {
        "id": "5sWJE4pmThcN",
        "colab_type": "code",
        "colab": {}
      },
      "source": [
        "datax_stab = np.array(datax_stab).reshape((len(json_files)*len(json_text['X_corrections']),12))\n",
        "dataz_stab = np.array(dataz_stab).reshape((len(json_files)*len(json_text['X_corrections']),12))"
      ],
      "execution_count": 0,
      "outputs": []
    },
    {
      "cell_type": "markdown",
      "metadata": {
        "id": "3WMV39PhThcS",
        "colab_type": "text"
      },
      "source": [
        "indices = []\n",
        "for index, (vectx, vectz) in enumerate(zip(datax_stab,dataz_stab)):\n",
        "        if max(vectx)==0 & max(vectz)==0:\n",
        "            indices.append(index)\n",
        "delete = indices#[:corte]\n",
        "datax_stab=np.delete(datax_stab,delete,axis=0)\n",
        "dataz_stab=np.delete(dataz_stab,delete,axis=0)\n",
        "numeric = np.delete(numeric,delete,axis=0)\n",
        "datax3 = np.array(datax_stab).reshape(len(datax_stab)*3,4)\n",
        "dataz3 = np.array(dataz_stab).reshape(len(datax_stab)*3,4)\n",
        "numeric3 = []\n",
        "for i in range(0,len(datax_stab)):\n",
        "    for j in range(0,3):\n",
        "        numeric3.append(numeric[i])\n",
        "numeric3 = np.array(numeric3)\n",
        "data3_stab = np.concatenate((datax3,dataz3),axis = 1)\n",
        "data3 = np.concatenate((data3_stab,numeric3.reshape(len(datax_stab)*3,1)),axis=1)"
      ]
    },
    {
      "cell_type": "code",
      "metadata": {
        "id": "2ZbHGDyQThcT",
        "colab_type": "code",
        "colab": {}
      },
      "source": [
        "#Caso trivial, alta probabilidad de que no hubo error\n",
        "indices = []\n",
        "for index, (vectx, vectz) in enumerate(zip(datax_stab,dataz_stab)):\n",
        "        if max(vectx)==0 & max(vectz)==0:\n",
        "            indices.append(index)"
      ],
      "execution_count": 0,
      "outputs": []
    },
    {
      "cell_type": "code",
      "metadata": {
        "id": "vQX0iOJMThcX",
        "colab_type": "code",
        "colab": {}
      },
      "source": [
        "delete = indices[:]#[:corte]"
      ],
      "execution_count": 0,
      "outputs": []
    },
    {
      "cell_type": "code",
      "metadata": {
        "id": "7o-M3CegThca",
        "colab_type": "code",
        "colab": {}
      },
      "source": [
        "corte =len(datax_stab)-len(indices)"
      ],
      "execution_count": 0,
      "outputs": []
    },
    {
      "cell_type": "code",
      "metadata": {
        "id": "PUMHXcVxThcd",
        "colab_type": "code",
        "colab": {}
      },
      "source": [
        "datax_stab=np.delete(datax_stab,delete,axis=0)\n",
        "dataz_stab=np.delete(dataz_stab,delete,axis=0)\n",
        "numeric = np.delete(numeric,delete,axis=0)"
      ],
      "execution_count": 0,
      "outputs": []
    },
    {
      "cell_type": "code",
      "metadata": {
        "id": "goYgqzL3Thcg",
        "colab_type": "code",
        "colab": {}
      },
      "source": [
        "datax3 = np.array(datax_stab).reshape(len(datax_stab)*3,4)\n",
        "dataz3 = np.array(dataz_stab).reshape(len(datax_stab)*3,4)"
      ],
      "execution_count": 0,
      "outputs": []
    },
    {
      "cell_type": "code",
      "metadata": {
        "id": "v7E3SktsThcj",
        "colab_type": "code",
        "colab": {}
      },
      "source": [
        "numeric3 = []\n",
        "for i in range(0,len(datax_stab)):\n",
        "    for j in range(0,3):\n",
        "        numeric3.append(numeric[i])\n",
        "numeric3 = np.array(numeric3)"
      ],
      "execution_count": 0,
      "outputs": []
    },
    {
      "cell_type": "code",
      "metadata": {
        "id": "fCslWxUsThcl",
        "colab_type": "code",
        "colab": {}
      },
      "source": [
        "data3_stab = np.concatenate((datax3,dataz3),axis = 1)\n",
        "data3 = np.concatenate((data3_stab,numeric3.reshape(len(datax_stab)*3,1)),axis=1)"
      ],
      "execution_count": 0,
      "outputs": []
    },
    {
      "cell_type": "code",
      "metadata": {
        "id": "fdhucMJRf_GB",
        "colab_type": "code",
        "outputId": "2aa6202b-4f37-4cac-cf33-7313b671f44b",
        "colab": {
          "base_uri": "https://localhost:8080/",
          "height": 34
        }
      },
      "source": [
        "data3.shape #conjunto de las tres rondas"
      ],
      "execution_count": 0,
      "outputs": [
        {
          "output_type": "execute_result",
          "data": {
            "text/plain": [
              "(2918553, 9)"
            ]
          },
          "metadata": {
            "tags": []
          },
          "execution_count": 90
        }
      ]
    },
    {
      "cell_type": "markdown",
      "metadata": {
        "id": "nZfdF9iuf6uL",
        "colab_type": "text"
      },
      "source": [
        "data3_stap.shape\n"
      ]
    },
    {
      "cell_type": "code",
      "metadata": {
        "id": "hVfC8Gh1Thcn",
        "colab_type": "code",
        "colab": {}
      },
      "source": [
        "np.savetxt('training_p01.csv',data3,delimiter=\",\")"
      ],
      "execution_count": 0,
      "outputs": []
    },
    {
      "cell_type": "markdown",
      "metadata": {
        "id": "YI5Nok8HTw1u",
        "colab_type": "text"
      },
      "source": [
        "#### Repaso de Métricas\n",
        "https://developers.google.com/machine-learning/crash-course/classification/precision-and-recall\n",
        "\n",
        "## Precisión\n",
        "¿Qué proporción de identificaciones positivas fue correcta? <br>\n",
        "\n",
        "$$ \\frac{TP}{TP+FP}$$\n",
        "\n",
        "## Exhautividad o Recall (recuperación)\n",
        "¿Qué proporción de positivos reales se identificó correctamente?\n",
        "\n",
        "$$ \\frac{TP}{TP+FN}$$\n",
        "\n"
      ]
    },
    {
      "cell_type": "markdown",
      "metadata": {
        "id": "J7PNiUhtdDSR",
        "colab_type": "text"
      },
      "source": [
        "### Regresión Logistica\n",
        "\n",
        "Input x:data3_stab <br>\n",
        "Input y: numeric3 <br>\n",
        "\n"
      ]
    },
    {
      "cell_type": "code",
      "metadata": {
        "id": "zcbPq9OIdRa0",
        "colab_type": "code",
        "colab": {}
      },
      "source": [
        "from sklearn.linear_model import LogisticRegression\n",
        "from sklearn.metrics import classification_report,confusion_matrix\n",
        "from sklearn.metrics import accuracy_score\n",
        "from sklearn.metrics import recall_score"
      ],
      "execution_count": 0,
      "outputs": []
    },
    {
      "cell_type": "code",
      "metadata": {
        "id": "ELJWzPIQd2rm",
        "colab_type": "code",
        "colab": {}
      },
      "source": [
        "log_X_train, log_X_test, log_y_train, log_y_test = train_test_split(data3_stab, numeric3, test_size=0.20, random_state=0)"
      ],
      "execution_count": 0,
      "outputs": []
    },
    {
      "cell_type": "markdown",
      "metadata": {
        "id": "hNdiHS57QEpd",
        "colab_type": "text"
      },
      "source": [
        ""
      ]
    },
    {
      "cell_type": "code",
      "metadata": {
        "id": "JXmTZ5mWf6M6",
        "colab_type": "code",
        "colab": {}
      },
      "source": [
        "model = LogisticRegression(solver='liblinear', random_state=0)"
      ],
      "execution_count": 0,
      "outputs": []
    },
    {
      "cell_type": "code",
      "metadata": {
        "id": "avUltl2whiDM",
        "colab_type": "code",
        "outputId": "dc8b5892-084a-4377-e8cf-38bf5b57db2d",
        "colab": {
          "base_uri": "https://localhost:8080/",
          "height": 102
        }
      },
      "source": [
        "model.fit(log_X_train,log_y_train)"
      ],
      "execution_count": 0,
      "outputs": [
        {
          "output_type": "execute_result",
          "data": {
            "text/plain": [
              "LogisticRegression(C=1.0, class_weight=None, dual=False, fit_intercept=True,\n",
              "                   intercept_scaling=1, l1_ratio=None, max_iter=100,\n",
              "                   multi_class='auto', n_jobs=None, penalty='l2',\n",
              "                   random_state=0, solver='liblinear', tol=0.0001, verbose=0,\n",
              "                   warm_start=False)"
            ]
          },
          "metadata": {
            "tags": []
          },
          "execution_count": 145
        }
      ]
    },
    {
      "cell_type": "code",
      "metadata": {
        "id": "-pCMiKz6h2jM",
        "colab_type": "code",
        "colab": {}
      },
      "source": [
        "log_y_hat = model.predict(log_X_test)"
      ],
      "execution_count": 0,
      "outputs": []
    },
    {
      "cell_type": "code",
      "metadata": {
        "id": "bQNknrDa0OAF",
        "colab_type": "code",
        "outputId": "ccf9468d-1c7c-4fb0-99ef-d6bdae8a369e",
        "colab": {
          "base_uri": "https://localhost:8080/",
          "height": 34
        }
      },
      "source": [
        "model.score(log_X_test,log_y_test)"
      ],
      "execution_count": 0,
      "outputs": [
        {
          "output_type": "execute_result",
          "data": {
            "text/plain": [
              "0.5464159489884549"
            ]
          },
          "metadata": {
            "tags": []
          },
          "execution_count": 147
        }
      ]
    },
    {
      "cell_type": "code",
      "metadata": {
        "id": "oqT0_Ku4PsNu",
        "colab_type": "code",
        "outputId": "eb76cd7e-e549-4fc5-df13-c0f10e18fce4",
        "colab": {
          "base_uri": "https://localhost:8080/",
          "height": 34
        }
      },
      "source": [
        "accuracy_score(log_y_test, log_y_hat)"
      ],
      "execution_count": 0,
      "outputs": [
        {
          "output_type": "execute_result",
          "data": {
            "text/plain": [
              "0.5464159489884549"
            ]
          },
          "metadata": {
            "tags": []
          },
          "execution_count": 149
        }
      ]
    },
    {
      "cell_type": "code",
      "metadata": {
        "id": "q06ALa55VRzN",
        "colab_type": "code",
        "outputId": "3ac14765-ddff-4137-c20d-67896da65be8",
        "colab": {
          "base_uri": "https://localhost:8080/",
          "height": 34
        }
      },
      "source": [
        "recall_score(log_y_test, log_y_hat)"
      ],
      "execution_count": 0,
      "outputs": [
        {
          "output_type": "execute_result",
          "data": {
            "text/plain": [
              "0.01372342314769683"
            ]
          },
          "metadata": {
            "tags": []
          },
          "execution_count": 163
        }
      ]
    },
    {
      "cell_type": "code",
      "metadata": {
        "id": "ksjMx3q30xCV",
        "colab_type": "code",
        "outputId": "11485c10-b2a2-4c21-9310-a8a3bb568a29",
        "colab": {
          "base_uri": "https://localhost:8080/",
          "height": 51
        }
      },
      "source": [
        "confusion_matrix(y_test,y_hat)"
      ],
      "execution_count": 0,
      "outputs": [
        {
          "output_type": "execute_result",
          "data": {
            "text/plain": [
              "array([[315317,   3737],\n",
              "       [261025,   3632]])"
            ]
          },
          "metadata": {
            "tags": []
          },
          "execution_count": 150
        }
      ]
    },
    {
      "cell_type": "markdown",
      "metadata": {
        "id": "w3S_wAH01L-x",
        "colab_type": "text"
      },
      "source": [
        "El modelo predice 315317 True positives <br>\n",
        "El modelo predice 3632 True Negative <br>\n",
        "El modelo predice 3737 Falsos Negativos <br>\n",
        "El modelo predice 261025 Falsos positivos <br>"
      ]
    },
    {
      "cell_type": "markdown",
      "metadata": {
        "id": "8XtDX6d62KI6",
        "colab_type": "text"
      },
      "source": [
        "#### Reporte"
      ]
    },
    {
      "cell_type": "code",
      "metadata": {
        "id": "wv9_7ysB2NaT",
        "colab_type": "code",
        "outputId": "7e0ba621-09e3-4596-9027-69338f8c4f90",
        "colab": {
          "base_uri": "https://localhost:8080/",
          "height": 170
        }
      },
      "source": [
        "from sklearn.metrics import classification_report\n",
        "\n",
        "print(classification_report(y_test, y_hat))"
      ],
      "execution_count": 0,
      "outputs": [
        {
          "output_type": "stream",
          "text": [
            "              precision    recall  f1-score   support\n",
            "\n",
            "           0       0.55      0.99      0.70    319054\n",
            "           1       0.49      0.01      0.03    264657\n",
            "\n",
            "    accuracy                           0.55    583711\n",
            "   macro avg       0.52      0.50      0.37    583711\n",
            "weighted avg       0.52      0.55      0.40    583711\n",
            "\n"
          ],
          "name": "stdout"
        }
      ]
    },
    {
      "cell_type": "markdown",
      "metadata": {
        "id": "0ZJZrU4G1LCF",
        "colab_type": "text"
      },
      "source": [
        "#### Logistica Manual\n"
      ]
    },
    {
      "cell_type": "code",
      "metadata": {
        "id": "ikBPYCDj2q75",
        "colab_type": "code",
        "colab": {}
      },
      "source": [
        "x_training_log = data3_stab[0:round(len(data3_stab)*0.8),]\n",
        "y_training_log = numeric3[0:round(len(data3_stab)*0.8),]\n",
        "\n",
        "x_test_log = data3_stab[round(len(data3_stab)*0.8):len(data3_stab),]\n",
        "\n",
        "y_test_log = numeric3[round(len(data3_stab)*0.8):len(data3_stab),]"
      ],
      "execution_count": 0,
      "outputs": []
    },
    {
      "cell_type": "code",
      "metadata": {
        "id": "ssOjpmP14fCv",
        "colab_type": "code",
        "colab": {}
      },
      "source": [
        "model = LogisticRegression(solver='liblinear', random_state=0)\n",
        "\n",
        "model.fit(x_training_log,y_training_log)\n",
        "\n",
        "y_predicho = model.predict(x_test_log)\n",
        "\n"
      ],
      "execution_count": 0,
      "outputs": []
    },
    {
      "cell_type": "code",
      "metadata": {
        "id": "0i2sdYtJ436h",
        "colab_type": "code",
        "outputId": "0f13c89c-6abd-4b46-9de7-924a8504c4ed",
        "colab": {
          "base_uri": "https://localhost:8080/",
          "height": 34
        }
      },
      "source": [
        "model.score(x_test_log,y_test_log)"
      ],
      "execution_count": 0,
      "outputs": [
        {
          "output_type": "execute_result",
          "data": {
            "text/plain": [
              "0.5451139348067794"
            ]
          },
          "metadata": {
            "tags": []
          },
          "execution_count": 109
        }
      ]
    },
    {
      "cell_type": "code",
      "metadata": {
        "id": "sJ6BAMAc5JFt",
        "colab_type": "code",
        "outputId": "9d74a0a2-1615-4f94-da87-ebb3f9875ee9",
        "colab": {
          "base_uri": "https://localhost:8080/",
          "height": 51
        }
      },
      "source": [
        "confusion_matrix(y_test_log,y_predicho)"
      ],
      "execution_count": 0,
      "outputs": [
        {
          "output_type": "execute_result",
          "data": {
            "text/plain": [
              "array([[314594,   3785],\n",
              "       [261737,   3595]])"
            ]
          },
          "metadata": {
            "tags": []
          },
          "execution_count": 111
        }
      ]
    },
    {
      "cell_type": "markdown",
      "metadata": {
        "id": "4jZmDeg05iKW",
        "colab_type": "text"
      },
      "source": [
        "#### Random Forest"
      ]
    },
    {
      "cell_type": "code",
      "metadata": {
        "id": "pTREBo-15ksB",
        "colab_type": "code",
        "outputId": "0e642143-6665-46e5-8434-9d1ece533473",
        "colab": {
          "base_uri": "https://localhost:8080/",
          "height": 153
        }
      },
      "source": [
        "from sklearn.ensemble import RandomForestClassifier\n",
        "\n",
        "# Create the model with 100 trees\n",
        "model = RandomForestClassifier(n_estimators=100, \n",
        "                               bootstrap = True,\n",
        "                               max_features = 'sqrt')\n",
        "\n",
        "RF_X_train, RF_X_test, RF_y_train, RF_y_test = train_test_split(data3_stab, numeric3, test_size=0.20, random_state=0)\n",
        "\n",
        "# Fit on training data\n",
        "model.fit(RF_X_train, RF_y_train)"
      ],
      "execution_count": 0,
      "outputs": [
        {
          "output_type": "execute_result",
          "data": {
            "text/plain": [
              "RandomForestClassifier(bootstrap=True, ccp_alpha=0.0, class_weight=None,\n",
              "                       criterion='gini', max_depth=None, max_features='sqrt',\n",
              "                       max_leaf_nodes=None, max_samples=None,\n",
              "                       min_impurity_decrease=0.0, min_impurity_split=None,\n",
              "                       min_samples_leaf=1, min_samples_split=2,\n",
              "                       min_weight_fraction_leaf=0.0, n_estimators=100,\n",
              "                       n_jobs=None, oob_score=False, random_state=None,\n",
              "                       verbose=0, warm_start=False)"
            ]
          },
          "metadata": {
            "tags": []
          },
          "execution_count": 151
        }
      ]
    },
    {
      "cell_type": "code",
      "metadata": {
        "id": "rdXQjuvlHay3",
        "colab_type": "code",
        "colab": {}
      },
      "source": [
        "# Actual class predictions\n",
        "rf_predictions = model.predict(RF_X_test)\n",
        "# Probabilities for each class\n",
        "rf_probs = model.predict_proba(RF_X_test)[:,1]"
      ],
      "execution_count": 0,
      "outputs": []
    },
    {
      "cell_type": "code",
      "metadata": {
        "id": "XXHzcgjAHEz8",
        "colab_type": "code",
        "colab": {}
      },
      "source": [
        "from sklearn.metrics import roc_auc_score\n",
        "\n",
        "# Calculate roc auc\n",
        "roc_value = roc_auc_score(RF_y_test, rf_probs)"
      ],
      "execution_count": 0,
      "outputs": []
    },
    {
      "cell_type": "code",
      "metadata": {
        "id": "VmjQK28AWsWi",
        "colab_type": "code",
        "colab": {}
      },
      "source": [
        "# Make probability predictions\n",
        "train_probs = model.predict_proba(RF_X_train)[:, 1]\n",
        "probs = model.predict_proba(RF_X_test)[:, 1]"
      ],
      "execution_count": 0,
      "outputs": []
    },
    {
      "cell_type": "code",
      "metadata": {
        "id": "baK6r1zVXIBn",
        "colab_type": "code",
        "outputId": "8bd19288-a4e5-4067-b2aa-664b3c1a36ea",
        "colab": {
          "base_uri": "https://localhost:8080/",
          "height": 51
        }
      },
      "source": [
        "print(f'Train ROC AUC Score: {roc_auc_score(RF_y_train, train_probs)}')\n",
        "print(f'Test ROC AUC  Score: {roc_auc_score(RF_y_test, probs)}')"
      ],
      "execution_count": 0,
      "outputs": [
        {
          "output_type": "stream",
          "text": [
            "Train ROC AUC Score: 0.5270806013519399\n",
            "Test ROC AUC  Score: 0.5262437503276649\n"
          ],
          "name": "stdout"
        }
      ]
    },
    {
      "cell_type": "markdown",
      "metadata": {
        "id": "je98FGe_MopF",
        "colab_type": "text"
      },
      "source": [
        "Métrica para RandomForest \n",
        "curva ROC (curva de característica operativa del recepto) \n",
        "https://developers.google.com/machine-learning/crash-course/classification/roc-and-auc"
      ]
    },
    {
      "cell_type": "code",
      "metadata": {
        "id": "50qQ8pVTIwXN",
        "colab_type": "code",
        "outputId": "ea6a9231-f501-47a7-ee5f-c622e224be6e",
        "colab": {
          "base_uri": "https://localhost:8080/",
          "height": 34
        }
      },
      "source": [
        "roc_value"
      ],
      "execution_count": 0,
      "outputs": [
        {
          "output_type": "execute_result",
          "data": {
            "text/plain": [
              "0.5262437503276649"
            ]
          },
          "metadata": {
            "tags": []
          },
          "execution_count": 164
        }
      ]
    },
    {
      "cell_type": "markdown",
      "metadata": {
        "id": "oeYV75cbMK0U",
        "colab_type": "text"
      },
      "source": [
        "The final testing ROC AUC for the random forest was 0.5262 \n",
        "\n",
        "The perfect value for ROC AUC value is 1.0"
      ]
    },
    {
      "cell_type": "code",
      "metadata": {
        "id": "OZWyrn11JiBy",
        "colab_type": "code",
        "colab": {}
      },
      "source": [
        "from sklearn.metrics import roc_curve\n",
        "\n",
        "FPR, TPR, thresholds = roc_curve(RF_y_test, rf_probs, pos_label=None, sample_weight=None, drop_intermediate=True)"
      ],
      "execution_count": 0,
      "outputs": []
    },
    {
      "cell_type": "code",
      "metadata": {
        "id": "BmvmYDhYLqPP",
        "colab_type": "code",
        "outputId": "c4e1f00c-407c-4d0f-b6ac-1cd8f4813048",
        "colab": {
          "base_uri": "https://localhost:8080/",
          "height": 279
        }
      },
      "source": [
        "from matplotlib import pyplot\n",
        "\n",
        "# plot the roc curve for the model\n",
        "pyplot.plot(FPR, TPR, marker='.', label='RandomForest')\n",
        "# axis labels\n",
        "pyplot.xlabel('False Positive Rate')\n",
        "pyplot.ylabel('True Positive Rate')\n",
        "# show the legend\n",
        "pyplot.legend()\n",
        "# show the plot\n",
        "pyplot.show()"
      ],
      "execution_count": 0,
      "outputs": [
        {
          "output_type": "display_data",
          "data": {
            "image/png": "[encoded data removed]",
            "text/plain": [
              "<Figure size 432x288 with 1 Axes>"
            ]
          },
          "metadata": {
            "tags": [],
            "needs_background": "light"
          }
        }
      ]
    },
    {
      "cell_type": "code",
      "metadata": {
        "id": "ibhmK_VtNW8N",
        "colab_type": "code",
        "outputId": "6209c78e-b11d-459c-de33-36bfa8ded76c",
        "colab": {
          "base_uri": "https://localhost:8080/",
          "height": 51
        }
      },
      "source": [
        "#ConfusionMatrix\n",
        "\n",
        "confusion_matrix(RF_y_test,rf_predictions)"
      ],
      "execution_count": 0,
      "outputs": [
        {
          "output_type": "execute_result",
          "data": {
            "text/plain": [
              "array([[317461,   1593],\n",
              "       [263184,   1473]])"
            ]
          },
          "metadata": {
            "tags": []
          },
          "execution_count": 160
        }
      ]
    },
    {
      "cell_type": "code",
      "metadata": {
        "id": "1S1-EhiPTMkT",
        "colab_type": "code",
        "outputId": "8123551b-9151-4813-8996-0608a8c253af",
        "colab": {
          "base_uri": "https://localhost:8080/",
          "height": 170
        }
      },
      "source": [
        "print(classification_report(RF_y_test, rf_predictions))"
      ],
      "execution_count": 0,
      "outputs": [
        {
          "output_type": "stream",
          "text": [
            "              precision    recall  f1-score   support\n",
            "\n",
            "           0       0.55      1.00      0.71    319054\n",
            "           1       0.48      0.01      0.01    264657\n",
            "\n",
            "    accuracy                           0.55    583711\n",
            "   macro avg       0.51      0.50      0.36    583711\n",
            "weighted avg       0.52      0.55      0.39    583711\n",
            "\n"
          ],
          "name": "stdout"
        }
      ]
    },
    {
      "cell_type": "markdown",
      "metadata": {
        "id": "ziXHDz6KX4xx",
        "colab_type": "text"
      },
      "source": [
        "### Optimización Random Forest con CV Search"
      ]
    },
    {
      "cell_type": "markdown",
      "metadata": {
        "id": "IpWKCdM-Ze0A",
        "colab_type": "text"
      },
      "source": [
        "Basado en \n",
        "https://github.com/WillKoehrsen/Machine-Learning-Projects/blob/master/Random%20Forest%20Tutorial.ipynb\n",
        "\n"
      ]
    },
    {
      "cell_type": "code",
      "metadata": {
        "id": "axMYL7jXX6Il",
        "colab_type": "code",
        "colab": {}
      },
      "source": [
        "from sklearn.model_selection import RandomizedSearchCV\n",
        "\n",
        "# Hyperparameter grid\n",
        "param_grid = {\n",
        "    'n_estimators': np.linspace(10, 200).astype(int),\n",
        "    'max_depth': [None] + list(np.linspace(3, 20).astype(int)),\n",
        "    'max_features': ['auto', 'sqrt', None] + list(np.arange(0.5, 1, 0.1)),\n",
        "    'max_leaf_nodes': [None] + list(np.linspace(10, 50, 500).astype(int)),\n",
        "    'min_samples_split': [2, 5, 10],\n",
        "    'bootstrap': [True, False]\n",
        "}\n",
        "\n",
        "# Estimator for use in random search\n",
        "estimator = RandomForestClassifier()"
      ],
      "execution_count": 0,
      "outputs": []
    },
    {
      "cell_type": "code",
      "metadata": {
        "id": "xjryl7x8ZqCa",
        "colab_type": "code",
        "colab": {}
      },
      "source": [
        "# Create the random search model\n",
        "rf = RandomizedSearchCV(estimator, param_grid, n_jobs = -1, \n",
        "                        scoring = 'roc_auc', cv = 3, \n",
        "                        n_iter = 10, verbose = 1)"
      ],
      "execution_count": 0,
      "outputs": []
    },
    {
      "cell_type": "code",
      "metadata": {
        "id": "JpZfD4MRbvI3",
        "colab_type": "code",
        "outputId": "3379cd97-01db-4d8c-c5ea-a9d4a3bc3eac",
        "colab": {
          "base_uri": "https://localhost:8080/",
          "height": 496
        }
      },
      "source": [
        "# Fit \n",
        "rf.fit(RF_X_train, RF_y_train)"
      ],
      "execution_count": 0,
      "outputs": [
        {
          "output_type": "stream",
          "text": [
            "Fitting 3 folds for each of 10 candidates, totalling 30 fits\n"
          ],
          "name": "stdout"
        },
        {
          "output_type": "stream",
          "text": [
            "[Parallel(n_jobs=-1)]: Using backend LokyBackend with 2 concurrent workers.\n",
            "[Parallel(n_jobs=-1)]: Done  30 out of  30 | elapsed: 79.8min finished\n"
          ],
          "name": "stderr"
        },
        {
          "output_type": "execute_result",
          "data": {
            "text/plain": [
              "RandomizedSearchCV(cv=3, error_score=nan,\n",
              "                   estimator=RandomForestClassifier(bootstrap=True,\n",
              "                                                    ccp_alpha=0.0,\n",
              "                                                    class_weight=None,\n",
              "                                                    criterion='gini',\n",
              "                                                    max_depth=None,\n",
              "                                                    max_features='auto',\n",
              "                                                    max_leaf_nodes=None,\n",
              "                                                    max_samples=None,\n",
              "                                                    min_impurity_decrease=0.0,\n",
              "                                                    min_impurity_split=None,\n",
              "                                                    min_samples_leaf=1,\n",
              "                                                    min_samples_split=2,\n",
              "                                                    min_weight_fraction_leaf=0.0,\n",
              "                                                    n_estimators=100,\n",
              "                                                    n_jobs...\n",
              "                                                           11, 12, 12, 12, 12, ...],\n",
              "                                        'min_samples_split': [2, 5, 10],\n",
              "                                        'n_estimators': array([ 10,  13,  17,  21,  25,  29,  33,  37,  41,  44,  48,  52,  56,\n",
              "        60,  64,  68,  72,  75,  79,  83,  87,  91,  95,  99, 103, 106,\n",
              "       110, 114, 118, 122, 126, 130, 134, 137, 141, 145, 149, 153, 157,\n",
              "       161, 165, 168, 172, 176, 180, 184, 188, 192, 196, 200])},\n",
              "                   pre_dispatch='2*n_jobs', random_state=None, refit=True,\n",
              "                   return_train_score=False, scoring='roc_auc', verbose=1)"
            ]
          },
          "metadata": {
            "tags": []
          },
          "execution_count": 174
        }
      ]
    },
    {
      "cell_type": "code",
      "metadata": {
        "id": "ZgPtY42owZkI",
        "colab_type": "code",
        "outputId": "1b84ce19-63cb-4fbc-c3a0-0500ad12472e",
        "colab": {
          "base_uri": "https://localhost:8080/",
          "height": 119
        }
      },
      "source": [
        "rf.best_params_"
      ],
      "execution_count": 0,
      "outputs": [
        {
          "output_type": "execute_result",
          "data": {
            "text/plain": [
              "{'bootstrap': True,\n",
              " 'max_depth': 13,\n",
              " 'max_features': 0.7,\n",
              " 'max_leaf_nodes': 49,\n",
              " 'min_samples_split': 5,\n",
              " 'n_estimators': 72}"
            ]
          },
          "metadata": {
            "tags": []
          },
          "execution_count": 175
        }
      ]
    },
    {
      "cell_type": "code",
      "metadata": {
        "id": "MQ4yslP4wtTw",
        "colab_type": "code",
        "colab": {}
      },
      "source": [
        "#Modelo Optimiazado\n",
        "\n",
        "best_model = rf.best_estimator_"
      ],
      "execution_count": 0,
      "outputs": []
    },
    {
      "cell_type": "code",
      "metadata": {
        "id": "aR78M3riw8n7",
        "colab_type": "code",
        "colab": {}
      },
      "source": [
        "train_rf_predictions = best_model.predict(RF_X_train)\n",
        "train_rf_probs = best_model.predict_proba(RF_X_train)[:, 1]\n",
        "\n",
        "rf_predictions = best_model.predict(RF_X_test)\n",
        "rf_probs = best_model.predict_proba(RF_X_test)[:, 1]"
      ],
      "execution_count": 0,
      "outputs": []
    },
    {
      "cell_type": "code",
      "metadata": {
        "id": "qzmf_w-FzC3g",
        "colab_type": "code",
        "colab": {}
      },
      "source": [
        "%matplotlib inline"
      ],
      "execution_count": 0,
      "outputs": []
    },
    {
      "cell_type": "code",
      "metadata": {
        "id": "QXkDTLy1yf1R",
        "colab_type": "code",
        "colab": {}
      },
      "source": [
        "from sklearn.metrics import precision_score, recall_score, roc_auc_score, roc_curve\n",
        "import matplotlib.pyplot as plt\n",
        "import seaborn as sns\n",
        "\n",
        "def evaluate_model(predictions, probs, train_predictions, train_probs,test_labels = RF_y_test ,train_labels= RF_y_train):\n",
        "    \"\"\"Compare machine learning model to baseline performance.\n",
        "    Computes statistics and shows ROC curve.\"\"\"\n",
        "    \n",
        "    baseline = {}\n",
        "    \n",
        "    baseline['recall'] = recall_score(test_labels, [1 for _ in range(len(test_labels))])\n",
        "    baseline['precision'] = precision_score(test_labels, [1 for _ in range(len(test_labels))])\n",
        "    baseline['roc'] = 0.5\n",
        "    \n",
        "    results = {}\n",
        "    \n",
        "    results['recall'] = recall_score(test_labels, predictions)\n",
        "    results['precision'] = precision_score(test_labels, predictions)\n",
        "    results['roc'] = roc_auc_score(test_labels, probs)\n",
        "    \n",
        "    train_results = {}\n",
        "    train_results['recall'] = recall_score(train_labels, train_predictions)\n",
        "    train_results['precision'] = precision_score(train_labels, train_predictions)\n",
        "    train_results['roc'] = roc_auc_score(train_labels, train_probs)\n",
        "    \n",
        "    for metric in ['recall', 'precision', 'roc']:\n",
        "        print(f'{metric.capitalize()} Baseline: {round(baseline[metric], 2)} Test: {round(results[metric], 2)} Train: {round(train_results[metric], 2)}')\n",
        "    \n",
        "    # Calculate false positive rates and true positive rates\n",
        "    base_fpr, base_tpr, _ = roc_curve(test_labels, [1 for _ in range(len(test_labels))])\n",
        "    model_fpr, model_tpr, _ = roc_curve(test_labels, probs)\n",
        "\n",
        "    plt.figure(figsize = (8, 6))\n",
        "    plt.rcParams['font.size'] = 16\n",
        "    \n",
        "    # Plot both curves\n",
        "    plt.plot(base_fpr, base_tpr, 'b', label = 'baseline')\n",
        "    plt.plot(model_fpr, model_tpr, 'r', label = 'model')\n",
        "    plt.legend();\n",
        "    plt.xlabel('False Positive Rate'); plt.ylabel('True Positive Rate'); plt.title('ROC Curves');"
      ],
      "execution_count": 0,
      "outputs": []
    },
    {
      "cell_type": "code",
      "metadata": {
        "id": "PEYjNAmUx4mQ",
        "colab_type": "code",
        "outputId": "b1623a32-29b2-4bd5-b9ea-2bd79dfbc1a8",
        "colab": {
          "base_uri": "https://localhost:8080/",
          "height": 558
        }
      },
      "source": [
        "evaluate_model(rf_predictions, rf_probs, train_rf_predictions, train_rf_probs)"
      ],
      "execution_count": 0,
      "outputs": [
        {
          "output_type": "stream",
          "text": [
            "/usr/local/lib/python3.6/dist-packages/sklearn/metrics/_classification.py:1272: UndefinedMetricWarning: Precision is ill-defined and being set to 0.0 due to no predicted samples. Use `zero_division` parameter to control this behavior.\n",
            "  _warn_prf(average, modifier, msg_start, len(result))\n",
            "/usr/local/lib/python3.6/dist-packages/sklearn/metrics/_classification.py:1272: UndefinedMetricWarning: Precision is ill-defined and being set to 0.0 due to no predicted samples. Use `zero_division` parameter to control this behavior.\n",
            "  _warn_prf(average, modifier, msg_start, len(result))\n"
          ],
          "name": "stderr"
        },
        {
          "output_type": "stream",
          "text": [
            "Recall Baseline: 1.0 Test: 0.0 Train: 0.0\n",
            "Precision Baseline: 0.45 Test: 0.0 Train: 0.0\n",
            "Roc Baseline: 0.5 Test: 0.53 Train: 0.53\n"
          ],
          "name": "stdout"
        },
        {
          "output_type": "display_data",
          "data": {
            "image/png": "[encoded data removed]",
            "text/plain": [
              "<Figure size 576x432 with 1 Axes>"
            ]
          },
          "metadata": {
            "tags": [],
            "needs_background": "light"
          }
        }
      ]
    },
    {
      "cell_type": "code",
      "metadata": {
        "id": "3J2v1gsi2yai",
        "colab_type": "code",
        "outputId": "a7b2a532-50c5-489b-da6a-71e1f391d6f7",
        "colab": {
          "base_uri": "https://localhost:8080/",
          "height": 51
        }
      },
      "source": [
        "print(f'Train ROC AUC Score: {roc_auc_score(RF_y_train, train_rf_probs)}')\n",
        "print(f'Test ROC AUC  Score: {roc_auc_score(RF_y_test, rf_probs)}')"
      ],
      "execution_count": 0,
      "outputs": [
        {
          "output_type": "stream",
          "text": [
            "Train ROC AUC Score: 0.5266665417829499\n",
            "Test ROC AUC  Score: 0.5268531094405021\n"
          ],
          "name": "stdout"
        }
      ]
    },
    {
      "cell_type": "markdown",
      "metadata": {
        "id": "9bDhGmSNf6xD",
        "colab_type": "text"
      },
      "source": [
        "#### Red Neural Recurrente"
      ]
    },
    {
      "cell_type": "code",
      "metadata": {
        "id": "4xY2bxi8Thcq",
        "colab_type": "code",
        "colab": {}
      },
      "source": [
        "def separar_secuencia(secuencia,pasos_tiempo):\n",
        "    x, y = list(), list()\n",
        "    for i in range(len(secuencia)):\n",
        "        final_ix = i +pasos_tiempo\n",
        "        if final_ix > len(secuencia)-1:\n",
        "            break\n",
        "        #juntamos la serie y resultado del siguiente paso\n",
        "        seq_x, seq_y = secuencia[i:final_ix,:-1], secuencia[final_ix-1,-1]\n",
        "        x.append(seq_x)\n",
        "        y.append(seq_y)\n",
        "    return np.array(x), np.array(y)"
      ],
      "execution_count": 0,
      "outputs": []
    },
    {
      "cell_type": "code",
      "metadata": {
        "id": "ZViKV6uaThcs",
        "colab_type": "code",
        "colab": {}
      },
      "source": [
        "pasos_tiempo3 = 3\n",
        "x3_0, y3_0 = separar_secuencia(data3,pasos_tiempo3)"
      ],
      "execution_count": 0,
      "outputs": []
    },
    {
      "cell_type": "code",
      "metadata": {
        "id": "kalK_PnihQGG",
        "colab_type": "code",
        "outputId": "c40f1871-bc91-4bd6-f310-23a6a94f45b9",
        "colab": {
          "base_uri": "https://localhost:8080/",
          "height": 442
        }
      },
      "source": [
        "x3_0"
      ],
      "execution_count": 0,
      "outputs": [
        {
          "output_type": "execute_result",
          "data": {
            "text/plain": [
              "array([[[0, 1, 1, ..., 1, 0, 0],\n",
              "        [1, 0, 1, ..., 1, 1, 1],\n",
              "        [0, 0, 0, ..., 0, 1, 1]],\n",
              "\n",
              "       [[1, 0, 1, ..., 1, 1, 1],\n",
              "        [0, 0, 0, ..., 0, 1, 1],\n",
              "        [0, 1, 1, ..., 1, 0, 1]],\n",
              "\n",
              "       [[0, 0, 0, ..., 0, 1, 1],\n",
              "        [0, 1, 1, ..., 1, 0, 1],\n",
              "        [1, 1, 0, ..., 1, 1, 0]],\n",
              "\n",
              "       ...,\n",
              "\n",
              "       [[0, 1, 1, ..., 0, 1, 1],\n",
              "        [0, 1, 0, ..., 0, 1, 1],\n",
              "        [1, 1, 1, ..., 1, 0, 1]],\n",
              "\n",
              "       [[0, 1, 0, ..., 0, 1, 1],\n",
              "        [1, 1, 1, ..., 1, 0, 1],\n",
              "        [1, 1, 0, ..., 1, 1, 1]],\n",
              "\n",
              "       [[1, 1, 1, ..., 1, 0, 1],\n",
              "        [1, 1, 0, ..., 1, 1, 1],\n",
              "        [1, 0, 0, ..., 0, 1, 0]]])"
            ]
          },
          "metadata": {
            "tags": []
          },
          "execution_count": 189
        }
      ]
    },
    {
      "cell_type": "code",
      "metadata": {
        "id": "dg6rinpiThcu",
        "colab_type": "code",
        "colab": {}
      },
      "source": [
        "x3 = []\n",
        "y3 = []\n",
        "for index in range(0,len(x3_0)):\n",
        "    if index==0:\n",
        "        x3.append(x3_0[index])\n",
        "    elif index%3 == 0:\n",
        "        x3.append(x3_0[index])\n",
        "for index in range(0,len(y3_0)):\n",
        "    if index==0:\n",
        "        y3.append(y3_0[index])\n",
        "    elif index%3 == 0:\n",
        "        y3.append(y3_0[index])\n",
        "x3 = np.array(x3)\n",
        "y3 = np.array(y3)"
      ],
      "execution_count": 0,
      "outputs": []
    },
    {
      "cell_type": "code",
      "metadata": {
        "id": "4cxTptTCThcw",
        "colab_type": "code",
        "colab": {}
      },
      "source": [
        "indices = np.arange(x3.shape[0])"
      ],
      "execution_count": 0,
      "outputs": []
    },
    {
      "cell_type": "code",
      "metadata": {
        "id": "PoU6mAl5Thcy",
        "colab_type": "code",
        "colab": {}
      },
      "source": [
        "np.random.shuffle(indices)"
      ],
      "execution_count": 0,
      "outputs": []
    },
    {
      "cell_type": "code",
      "metadata": {
        "id": "ycGwKSljThc1",
        "colab_type": "code",
        "colab": {}
      },
      "source": [
        "x3 = x3[indices]\n",
        "y3 = y3[indices]"
      ],
      "execution_count": 0,
      "outputs": []
    },
    {
      "cell_type": "code",
      "metadata": {
        "id": "iZZWyHK0Thc9",
        "colab_type": "code",
        "colab": {}
      },
      "source": [
        "x_train3 = x3[0:round(len(x3)*0.8)]\n",
        "y_train3 = y3[0:round(len(y3)*0.8)]\n",
        "x_test3 = x3[round(len(x3)*0.8):len(x3)]\n",
        "y_test3 = y3[round(len(y3)*0.8):len(y3)]"
      ],
      "execution_count": 0,
      "outputs": []
    },
    {
      "cell_type": "code",
      "metadata": {
        "id": "EbGe7aqQThc_",
        "colab_type": "code",
        "colab": {}
      },
      "source": [
        "y_train3= keras.utils.to_categorical(y_train3,num_classes=2)\n",
        "y_test3 = keras.utils.to_categorical(y_test3,num_classes=2)"
      ],
      "execution_count": 0,
      "outputs": []
    },
    {
      "cell_type": "code",
      "metadata": {
        "id": "HRx0k6USThdB",
        "colab_type": "code",
        "colab": {}
      },
      "source": [
        "n_stab3 = 8"
      ],
      "execution_count": 0,
      "outputs": []
    },
    {
      "cell_type": "code",
      "metadata": {
        "id": "qMCUYSxNThdD",
        "colab_type": "code",
        "colab": {}
      },
      "source": [
        "model3 = Sequential()\n",
        "model3.add(LSTM(128,\n",
        "               activation = 'relu',\n",
        "               return_sequences = True,\n",
        "               input_shape = (pasos_tiempo3,n_stab3)))\n",
        "model3.add(LSTM(64, activation='relu'))\n",
        "model3.add(Dropout(0.5))\n",
        "model3.add(Dense(64,activation = 'relu'))\n",
        "model3.add(Dropout(0.3))\n",
        "model3.add(Dense(32,activation = 'relu'))\n",
        "model3.add(Dropout(0.3))\n",
        "model3.add(Dense(16,activation = 'relu'))\n",
        "model3.add(Dense(2, activation='softmax'))"
      ],
      "execution_count": 0,
      "outputs": []
    },
    {
      "cell_type": "code",
      "metadata": {
        "id": "75hvnhCxThdF",
        "colab_type": "code",
        "colab": {}
      },
      "source": [
        "model3.compile(loss='categorical_crossentropy',\n",
        "              optimizer='rmsprop',\n",
        "              metrics=['accuracy'])"
      ],
      "execution_count": 0,
      "outputs": []
    },
    {
      "cell_type": "code",
      "metadata": {
        "id": "uFUTxn7p5Qua",
        "colab_type": "code",
        "outputId": "9d46d9fa-194f-47af-de45-3a8fbafcf05a",
        "colab": {
          "base_uri": "https://localhost:8080/",
          "height": 34
        }
      },
      "source": [
        "x_train3.shape"
      ],
      "execution_count": 0,
      "outputs": [
        {
          "output_type": "execute_result",
          "data": {
            "text/plain": [
              "(778280, 3, 8)"
            ]
          },
          "metadata": {
            "tags": []
          },
          "execution_count": 212
        }
      ]
    },
    {
      "cell_type": "code",
      "metadata": {
        "jupyter": {
          "outputs_hidden": true
        },
        "id": "Y8ef1BdcThdH",
        "colab_type": "code",
        "outputId": "7c6d0fe5-a78b-4f2f-b65a-3b77d28d5d2a",
        "colab": {
          "base_uri": "https://localhost:8080/",
          "height": 564
        }
      },
      "source": [
        "model3.fit(x_train3, y_train3,batch_size=300, epochs=20,verbose=1)"
      ],
      "execution_count": 0,
      "outputs": [
        {
          "output_type": "stream",
          "text": [
            "Epoch 1/20\n",
            "778280/778280 [==============================] - 117s 150us/step - loss: 0.6872 - accuracy: 0.5449\n",
            "Epoch 2/20\n",
            "778280/778280 [==============================] - 113s 146us/step - loss: 0.6862 - accuracy: 0.5448\n",
            "Epoch 3/20\n",
            "778280/778280 [==============================] - 113s 145us/step - loss: 0.6861 - accuracy: 0.5450\n",
            "Epoch 4/20\n",
            "778280/778280 [==============================] - 112s 143us/step - loss: 0.6859 - accuracy: 0.5450\n",
            "Epoch 5/20\n",
            "778280/778280 [==============================] - 111s 142us/step - loss: 0.6858 - accuracy: 0.5450\n",
            "Epoch 6/20\n",
            "778280/778280 [==============================] - 111s 142us/step - loss: 0.6858 - accuracy: 0.5448\n",
            "Epoch 7/20\n",
            "186000/778280 [======>.......................] - ETA: 1:25 - loss: 0.6857 - accuracy: 0.5463"
          ],
          "name": "stdout"
        },
        {
          "output_type": "error",
          "ename": "KeyboardInterrupt",
          "evalue": "ignored",
          "traceback": [
            "\u001b[0;31m---------------------------------------------------------------------------\u001b[0m",
            "\u001b[0;31mKeyboardInterrupt\u001b[0m                         Traceback (most recent call last)",
            "\u001b[0;32m<ipython-input-214-5975fe7021c9>\u001b[0m in \u001b[0;36m<module>\u001b[0;34m()\u001b[0m\n\u001b[0;32m----> 1\u001b[0;31m \u001b[0mmodel3\u001b[0m\u001b[0;34m.\u001b[0m\u001b[0mfit\u001b[0m\u001b[0;34m(\u001b[0m\u001b[0mx_train3\u001b[0m\u001b[0;34m,\u001b[0m \u001b[0my_train3\u001b[0m\u001b[0;34m,\u001b[0m\u001b[0mbatch_size\u001b[0m\u001b[0;34m=\u001b[0m\u001b[0;36m300\u001b[0m\u001b[0;34m,\u001b[0m \u001b[0mepochs\u001b[0m\u001b[0;34m=\u001b[0m\u001b[0;36m20\u001b[0m\u001b[0;34m,\u001b[0m\u001b[0mverbose\u001b[0m\u001b[0;34m=\u001b[0m\u001b[0;36m1\u001b[0m\u001b[0;34m)\u001b[0m\u001b[0;34m\u001b[0m\u001b[0;34m\u001b[0m\u001b[0m\n\u001b[0m",
            "\u001b[0;32m/usr/local/lib/python3.6/dist-packages/keras/engine/training.py\u001b[0m in \u001b[0;36mfit\u001b[0;34m(self, x, y, batch_size, epochs, verbose, callbacks, validation_split, validation_data, shuffle, class_weight, sample_weight, initial_epoch, steps_per_epoch, validation_steps, validation_freq, max_queue_size, workers, use_multiprocessing, **kwargs)\u001b[0m\n\u001b[1;32m   1237\u001b[0m                                         \u001b[0msteps_per_epoch\u001b[0m\u001b[0;34m=\u001b[0m\u001b[0msteps_per_epoch\u001b[0m\u001b[0;34m,\u001b[0m\u001b[0;34m\u001b[0m\u001b[0;34m\u001b[0m\u001b[0m\n\u001b[1;32m   1238\u001b[0m                                         \u001b[0mvalidation_steps\u001b[0m\u001b[0;34m=\u001b[0m\u001b[0mvalidation_steps\u001b[0m\u001b[0;34m,\u001b[0m\u001b[0;34m\u001b[0m\u001b[0;34m\u001b[0m\u001b[0m\n\u001b[0;32m-> 1239\u001b[0;31m                                         validation_freq=validation_freq)\n\u001b[0m\u001b[1;32m   1240\u001b[0m \u001b[0;34m\u001b[0m\u001b[0m\n\u001b[1;32m   1241\u001b[0m     def evaluate(self,\n",
            "\u001b[0;32m/usr/local/lib/python3.6/dist-packages/keras/engine/training_arrays.py\u001b[0m in \u001b[0;36mfit_loop\u001b[0;34m(model, fit_function, fit_inputs, out_labels, batch_size, epochs, verbose, callbacks, val_function, val_inputs, shuffle, initial_epoch, steps_per_epoch, validation_steps, validation_freq)\u001b[0m\n\u001b[1;32m    194\u001b[0m                     \u001b[0mins_batch\u001b[0m\u001b[0;34m[\u001b[0m\u001b[0mi\u001b[0m\u001b[0;34m]\u001b[0m \u001b[0;34m=\u001b[0m \u001b[0mins_batch\u001b[0m\u001b[0;34m[\u001b[0m\u001b[0mi\u001b[0m\u001b[0;34m]\u001b[0m\u001b[0;34m.\u001b[0m\u001b[0mtoarray\u001b[0m\u001b[0;34m(\u001b[0m\u001b[0;34m)\u001b[0m\u001b[0;34m\u001b[0m\u001b[0;34m\u001b[0m\u001b[0m\n\u001b[1;32m    195\u001b[0m \u001b[0;34m\u001b[0m\u001b[0m\n\u001b[0;32m--> 196\u001b[0;31m                 \u001b[0mouts\u001b[0m \u001b[0;34m=\u001b[0m \u001b[0mfit_function\u001b[0m\u001b[0;34m(\u001b[0m\u001b[0mins_batch\u001b[0m\u001b[0;34m)\u001b[0m\u001b[0;34m\u001b[0m\u001b[0;34m\u001b[0m\u001b[0m\n\u001b[0m\u001b[1;32m    197\u001b[0m                 \u001b[0mouts\u001b[0m \u001b[0;34m=\u001b[0m \u001b[0mto_list\u001b[0m\u001b[0;34m(\u001b[0m\u001b[0mouts\u001b[0m\u001b[0;34m)\u001b[0m\u001b[0;34m\u001b[0m\u001b[0;34m\u001b[0m\u001b[0m\n\u001b[1;32m    198\u001b[0m                 \u001b[0;32mfor\u001b[0m \u001b[0ml\u001b[0m\u001b[0;34m,\u001b[0m \u001b[0mo\u001b[0m \u001b[0;32min\u001b[0m \u001b[0mzip\u001b[0m\u001b[0;34m(\u001b[0m\u001b[0mout_labels\u001b[0m\u001b[0;34m,\u001b[0m \u001b[0mouts\u001b[0m\u001b[0;34m)\u001b[0m\u001b[0;34m:\u001b[0m\u001b[0;34m\u001b[0m\u001b[0;34m\u001b[0m\u001b[0m\n",
            "\u001b[0;32m/usr/local/lib/python3.6/dist-packages/tensorflow/python/keras/backend.py\u001b[0m in \u001b[0;36m__call__\u001b[0;34m(self, inputs)\u001b[0m\n\u001b[1;32m   3790\u001b[0m         \u001b[0mvalue\u001b[0m \u001b[0;34m=\u001b[0m \u001b[0mmath_ops\u001b[0m\u001b[0;34m.\u001b[0m\u001b[0mcast\u001b[0m\u001b[0;34m(\u001b[0m\u001b[0mvalue\u001b[0m\u001b[0;34m,\u001b[0m \u001b[0mtensor\u001b[0m\u001b[0;34m.\u001b[0m\u001b[0mdtype\u001b[0m\u001b[0;34m)\u001b[0m\u001b[0;34m\u001b[0m\u001b[0;34m\u001b[0m\u001b[0m\n\u001b[1;32m   3791\u001b[0m       \u001b[0mconverted_inputs\u001b[0m\u001b[0;34m.\u001b[0m\u001b[0mappend\u001b[0m\u001b[0;34m(\u001b[0m\u001b[0mvalue\u001b[0m\u001b[0;34m)\u001b[0m\u001b[0;34m\u001b[0m\u001b[0;34m\u001b[0m\u001b[0m\n\u001b[0;32m-> 3792\u001b[0;31m     \u001b[0moutputs\u001b[0m \u001b[0;34m=\u001b[0m \u001b[0mself\u001b[0m\u001b[0;34m.\u001b[0m\u001b[0m_graph_fn\u001b[0m\u001b[0;34m(\u001b[0m\u001b[0;34m*\u001b[0m\u001b[0mconverted_inputs\u001b[0m\u001b[0;34m)\u001b[0m\u001b[0;34m\u001b[0m\u001b[0;34m\u001b[0m\u001b[0m\n\u001b[0m\u001b[1;32m   3793\u001b[0m \u001b[0;34m\u001b[0m\u001b[0m\n\u001b[1;32m   3794\u001b[0m     \u001b[0;31m# EagerTensor.numpy() will often make a copy to ensure memory safety.\u001b[0m\u001b[0;34m\u001b[0m\u001b[0;34m\u001b[0m\u001b[0;34m\u001b[0m\u001b[0m\n",
            "\u001b[0;32m/usr/local/lib/python3.6/dist-packages/tensorflow/python/eager/function.py\u001b[0m in \u001b[0;36m__call__\u001b[0;34m(self, *args, **kwargs)\u001b[0m\n\u001b[1;32m   1603\u001b[0m       \u001b[0mTypeError\u001b[0m\u001b[0;34m:\u001b[0m \u001b[0mFor\u001b[0m \u001b[0minvalid\u001b[0m \u001b[0mpositional\u001b[0m\u001b[0;34m/\u001b[0m\u001b[0mkeyword\u001b[0m \u001b[0margument\u001b[0m \u001b[0mcombinations\u001b[0m\u001b[0;34m.\u001b[0m\u001b[0;34m\u001b[0m\u001b[0;34m\u001b[0m\u001b[0m\n\u001b[1;32m   1604\u001b[0m     \"\"\"\n\u001b[0;32m-> 1605\u001b[0;31m     \u001b[0;32mreturn\u001b[0m \u001b[0mself\u001b[0m\u001b[0;34m.\u001b[0m\u001b[0m_call_impl\u001b[0m\u001b[0;34m(\u001b[0m\u001b[0margs\u001b[0m\u001b[0;34m,\u001b[0m \u001b[0mkwargs\u001b[0m\u001b[0;34m)\u001b[0m\u001b[0;34m\u001b[0m\u001b[0;34m\u001b[0m\u001b[0m\n\u001b[0m\u001b[1;32m   1606\u001b[0m \u001b[0;34m\u001b[0m\u001b[0m\n\u001b[1;32m   1607\u001b[0m   \u001b[0;32mdef\u001b[0m \u001b[0m_call_impl\u001b[0m\u001b[0;34m(\u001b[0m\u001b[0mself\u001b[0m\u001b[0;34m,\u001b[0m \u001b[0margs\u001b[0m\u001b[0;34m,\u001b[0m \u001b[0mkwargs\u001b[0m\u001b[0;34m,\u001b[0m \u001b[0mcancellation_manager\u001b[0m\u001b[0;34m=\u001b[0m\u001b[0;32mNone\u001b[0m\u001b[0;34m)\u001b[0m\u001b[0;34m:\u001b[0m\u001b[0;34m\u001b[0m\u001b[0;34m\u001b[0m\u001b[0m\n",
            "\u001b[0;32m/usr/local/lib/python3.6/dist-packages/tensorflow/python/eager/function.py\u001b[0m in \u001b[0;36m_call_impl\u001b[0;34m(self, args, kwargs, cancellation_manager)\u001b[0m\n\u001b[1;32m   1643\u001b[0m       raise TypeError(\"Keyword arguments {} unknown. Expected {}.\".format(\n\u001b[1;32m   1644\u001b[0m           list(kwargs.keys()), list(self._arg_keywords)))\n\u001b[0;32m-> 1645\u001b[0;31m     \u001b[0;32mreturn\u001b[0m \u001b[0mself\u001b[0m\u001b[0;34m.\u001b[0m\u001b[0m_call_flat\u001b[0m\u001b[0;34m(\u001b[0m\u001b[0margs\u001b[0m\u001b[0;34m,\u001b[0m \u001b[0mself\u001b[0m\u001b[0;34m.\u001b[0m\u001b[0mcaptured_inputs\u001b[0m\u001b[0;34m,\u001b[0m \u001b[0mcancellation_manager\u001b[0m\u001b[0;34m)\u001b[0m\u001b[0;34m\u001b[0m\u001b[0;34m\u001b[0m\u001b[0m\n\u001b[0m\u001b[1;32m   1646\u001b[0m \u001b[0;34m\u001b[0m\u001b[0m\n\u001b[1;32m   1647\u001b[0m   \u001b[0;32mdef\u001b[0m \u001b[0m_filtered_call\u001b[0m\u001b[0;34m(\u001b[0m\u001b[0mself\u001b[0m\u001b[0;34m,\u001b[0m \u001b[0margs\u001b[0m\u001b[0;34m,\u001b[0m \u001b[0mkwargs\u001b[0m\u001b[0;34m)\u001b[0m\u001b[0;34m:\u001b[0m\u001b[0;34m\u001b[0m\u001b[0;34m\u001b[0m\u001b[0m\n",
            "\u001b[0;32m/usr/local/lib/python3.6/dist-packages/tensorflow/python/eager/function.py\u001b[0m in \u001b[0;36m_call_flat\u001b[0;34m(self, args, captured_inputs, cancellation_manager)\u001b[0m\n\u001b[1;32m   1744\u001b[0m       \u001b[0;31m# No tape is watching; skip to running the function.\u001b[0m\u001b[0;34m\u001b[0m\u001b[0;34m\u001b[0m\u001b[0;34m\u001b[0m\u001b[0m\n\u001b[1;32m   1745\u001b[0m       return self._build_call_outputs(self._inference_function.call(\n\u001b[0;32m-> 1746\u001b[0;31m           ctx, args, cancellation_manager=cancellation_manager))\n\u001b[0m\u001b[1;32m   1747\u001b[0m     forward_backward = self._select_forward_and_backward_functions(\n\u001b[1;32m   1748\u001b[0m         \u001b[0margs\u001b[0m\u001b[0;34m,\u001b[0m\u001b[0;34m\u001b[0m\u001b[0;34m\u001b[0m\u001b[0m\n",
            "\u001b[0;32m/usr/local/lib/python3.6/dist-packages/tensorflow/python/eager/function.py\u001b[0m in \u001b[0;36mcall\u001b[0;34m(self, ctx, args, cancellation_manager)\u001b[0m\n\u001b[1;32m    596\u001b[0m               \u001b[0minputs\u001b[0m\u001b[0;34m=\u001b[0m\u001b[0margs\u001b[0m\u001b[0;34m,\u001b[0m\u001b[0;34m\u001b[0m\u001b[0;34m\u001b[0m\u001b[0m\n\u001b[1;32m    597\u001b[0m               \u001b[0mattrs\u001b[0m\u001b[0;34m=\u001b[0m\u001b[0mattrs\u001b[0m\u001b[0;34m,\u001b[0m\u001b[0;34m\u001b[0m\u001b[0;34m\u001b[0m\u001b[0m\n\u001b[0;32m--> 598\u001b[0;31m               ctx=ctx)\n\u001b[0m\u001b[1;32m    599\u001b[0m         \u001b[0;32melse\u001b[0m\u001b[0;34m:\u001b[0m\u001b[0;34m\u001b[0m\u001b[0;34m\u001b[0m\u001b[0m\n\u001b[1;32m    600\u001b[0m           outputs = execute.execute_with_cancellation(\n",
            "\u001b[0;32m/usr/local/lib/python3.6/dist-packages/tensorflow/python/eager/execute.py\u001b[0m in \u001b[0;36mquick_execute\u001b[0;34m(op_name, num_outputs, inputs, attrs, ctx, name)\u001b[0m\n\u001b[1;32m     58\u001b[0m     \u001b[0mctx\u001b[0m\u001b[0;34m.\u001b[0m\u001b[0mensure_initialized\u001b[0m\u001b[0;34m(\u001b[0m\u001b[0;34m)\u001b[0m\u001b[0;34m\u001b[0m\u001b[0;34m\u001b[0m\u001b[0m\n\u001b[1;32m     59\u001b[0m     tensors = pywrap_tfe.TFE_Py_Execute(ctx._handle, device_name, op_name,\n\u001b[0;32m---> 60\u001b[0;31m                                         inputs, attrs, num_outputs)\n\u001b[0m\u001b[1;32m     61\u001b[0m   \u001b[0;32mexcept\u001b[0m \u001b[0mcore\u001b[0m\u001b[0;34m.\u001b[0m\u001b[0m_NotOkStatusException\u001b[0m \u001b[0;32mas\u001b[0m \u001b[0me\u001b[0m\u001b[0;34m:\u001b[0m\u001b[0;34m\u001b[0m\u001b[0;34m\u001b[0m\u001b[0m\n\u001b[1;32m     62\u001b[0m     \u001b[0;32mif\u001b[0m \u001b[0mname\u001b[0m \u001b[0;32mis\u001b[0m \u001b[0;32mnot\u001b[0m \u001b[0;32mNone\u001b[0m\u001b[0;34m:\u001b[0m\u001b[0;34m\u001b[0m\u001b[0;34m\u001b[0m\u001b[0m\n",
            "\u001b[0;31mKeyboardInterrupt\u001b[0m: "
          ]
        }
      ]
    },
    {
      "cell_type": "code",
      "metadata": {
        "id": "R2AfOUXkThdK",
        "colab_type": "code",
        "colab": {}
      },
      "source": [
        "model3.save('modelo.h5')"
      ],
      "execution_count": 0,
      "outputs": []
    },
    {
      "cell_type": "code",
      "metadata": {
        "id": "HmAS6vn-ThdM",
        "colab_type": "code",
        "outputId": "3cec6bf8-d11a-48c0-cd4f-3cbf2d2e8a25",
        "colab": {}
      },
      "source": [
        "score3 = model3.evaluate(x_test3, y_test3, batch_size=256)\n",
        "score3"
      ],
      "execution_count": 0,
      "outputs": [
        {
          "output_type": "stream",
          "text": [
            "324000/324000 [==============================] - 9s 29us/step\n"
          ],
          "name": "stdout"
        },
        {
          "output_type": "execute_result",
          "data": {
            "text/plain": [
              "[0.5007690983171816, 0.7523765431981028]"
            ]
          },
          "metadata": {
            "tags": []
          },
          "execution_count": 72
        }
      ]
    },
    {
      "cell_type": "code",
      "metadata": {
        "id": "1DdjgYG0ThdO",
        "colab_type": "code",
        "colab": {}
      },
      "source": [
        "from keras.models import load_model"
      ],
      "execution_count": 0,
      "outputs": []
    },
    {
      "cell_type": "code",
      "metadata": {
        "id": "ZawmPzMuThdQ",
        "colab_type": "code",
        "outputId": "c401ba5e-7263-4fe3-ce88-3fb355ee8ac9",
        "colab": {}
      },
      "source": [
        "model3 = load_model('modelo.h5')"
      ],
      "execution_count": 0,
      "outputs": [
        {
          "output_type": "stream",
          "text": [
            "WARNING:tensorflow:From C:\\Users\\daoban\\AppData\\Local\\Continuum\\anaconda3\\lib\\site-packages\\tensorflow\\python\\framework\\op_def_library.py:263: colocate_with (from tensorflow.python.framework.ops) is deprecated and will be removed in a future version.\n",
            "Instructions for updating:\n",
            "Colocations handled automatically by placer.\n",
            "WARNING:tensorflow:From C:\\Users\\daoban\\AppData\\Local\\Continuum\\anaconda3\\lib\\site-packages\\keras\\backend\\tensorflow_backend.py:3445: calling dropout (from tensorflow.python.ops.nn_ops) with keep_prob is deprecated and will be removed in a future version.\n",
            "Instructions for updating:\n",
            "Please use `rate` instead of `keep_prob`. Rate should be set to `rate = 1 - keep_prob`.\n",
            "WARNING:tensorflow:From C:\\Users\\daoban\\AppData\\Local\\Continuum\\anaconda3\\lib\\site-packages\\tensorflow\\python\\ops\\math_ops.py:3066: to_int32 (from tensorflow.python.ops.math_ops) is deprecated and will be removed in a future version.\n",
            "Instructions for updating:\n",
            "Use tf.cast instead.\n"
          ],
          "name": "stdout"
        }
      ]
    },
    {
      "cell_type": "code",
      "metadata": {
        "id": "IIhvQo8AThdT",
        "colab_type": "code",
        "colab": {}
      },
      "source": [
        "texto = \"\"\"x_correc_02e = []\n",
        "x_stab_02e = []\n",
        "z_correc_02e = []\n",
        "z_stab_02e = []\n",
        "final_errors_02e = []\n",
        "with open(path_to_json+'0_2.json') as json_file:\n",
        "    json_text = json.load(json_file)\n",
        "x_correc_02e.append(json_text['X_corrections'])\n",
        "x_stab_02e.append(json_text['X_stab_outcomes'])\n",
        "z_correc_02e.append(json_text['Z_corrections'])\n",
        "z_stab_02e.append(json_text['Z_stab_outcomes'])\n",
        "final_errors_02e.append(json_text['failings_total_NN'])\n",
        "for i in range(0,len(x_stab_02e)):\n",
        "    for j in range(0,len(x_stab_02e[i])):\n",
        "        if len(x_stab_02e[i][j]) != 3:\n",
        "           x_stab_02e[i][j].append(x_stab_02e[i][j][0])\n",
        "#relleno los que tienen solo dos mediciones iguales z\n",
        "for i in range(0,len(z_stab_02e)):\n",
        "    for j in range(0,len(z_stab_02e[i])):\n",
        "        if len(z_stab_02e[i][j]) != 3:\n",
        "           z_stab_02e[i][j].append(z_stab_02e[i][j][0])\n",
        "dataz_stab_02e =[]\n",
        "for i in range(0,len(z_stab_02e)):\n",
        "    for j in range(0,len(z_stab_02e[i])):\n",
        "        for k in range(0,len(z_stab_02e[i][j])):\n",
        "            for l in range(0,len(z_stab_02e[i][j][k])):\n",
        "                dataz_stab_02e.append(z_stab_02e[i][j][k][l])\n",
        "datax_stab_02e =[]\n",
        "for i in range(0,len(x_stab_02e)):\n",
        "    for j in range(0,len(x_stab_02e[i])):\n",
        "        for k in range(0,len(x_stab_02e[i][j])):\n",
        "            for l in range(0,len(x_stab_02e[i][j][k])):\n",
        "                datax_stab_02e.append(x_stab_02e[i][j][k][l])\n",
        "datax_stab_02e = np.array(datax_stab_02e).reshape((30000,12))\n",
        "dataz_stab_02e = np.array(dataz_stab_02e).reshape((30000,12))\n",
        "numeric_02e = []\n",
        "for i in range(0,len(final_errors_02e[0])):\n",
        "    for j in range(0,3):\n",
        "        numeric_02e.append(final_errors_02e[0][i])\n",
        "numeric_02e = np.array(numeric_02e).astype(int)\n",
        "indices = []\n",
        "for index, (vectx, vectz) in enumerate(zip(datax_stab_02e,dataz_stab_02e)):\n",
        "        if max(vectx)==0 & max(vectz)==0:\n",
        "            indices.append(index)\n",
        "delete_02e = indices#[:corte]\n",
        "datax_stab_02e=np.delete(datax_stab_02e,delete_02e,axis=0)\n",
        "dataz_stab_02e=np.delete(dataz_stab_02e,delete_02e,axis=0)\n",
        "numeric_02e = np.delete(numeric_02e,delete_02e,axis=0)\n",
        "datax3 = np.array(datax_stab_02e).reshape(len(datax_stab_02e)*3,4)\n",
        "dataz3 = np.array(dataz_stab_02e).reshape(len(datax_stab_02e)*3,4)\n",
        "numeric3 = []\n",
        "for i in range(0,len(datax_stab_02e)):\n",
        "    for j in range(0,3):\n",
        "        numeric3.append(numeric_02e[i])\n",
        "numeric3 = np.array(numeric3)\n",
        "data3_stab = np.concatenate((datax3,dataz3),axis = 1)\n",
        "data3 = np.concatenate((data3_stab,numeric3.reshape(len(datax_stab_02e)*3,1)),axis=1)\n",
        "pasos_tiempo3 = 3\n",
        "x3_0, y3_0 = separar_secuencia(data3,pasos_tiempo3)\n",
        "x3 = []\n",
        "y3 = []\n",
        "for index in range(0,len(x3_0)):\n",
        "    if index==0:\n",
        "        x3.append(x3_0[index])\n",
        "    elif index%3 == 0:\n",
        "        x3.append(x3_0[index])\n",
        "for index in range(0,len(y3_0)):\n",
        "    if index==0:\n",
        "        y3.append(y3_0[index])\n",
        "    elif index%3 == 0:\n",
        "        y3.append(y3_0[index])\n",
        "x3 = np.array(x3)\n",
        "x3=x3[round(len(x3)*0.8):len(x3)]\n",
        "y3 = np.array(y3)\n",
        "y3=y3[round(len(y3)*0.8):len(y3)]\n",
        "y3= keras.utils.to_categorical(y3,num_classes=2)\n",
        "acc_02e = model3.evaluate(x3, y3, batch_size=256)[1]\n",
        "delete_02e = len(delete_02e)\n",
        "acc_02e\"\"\""
      ],
      "execution_count": 0,
      "outputs": []
    },
    {
      "cell_type": "code",
      "metadata": {
        "id": "iuaZulPCThdW",
        "colab_type": "code",
        "colab": {}
      },
      "source": [
        "files = []\n",
        "for file in json_files:\n",
        "    files.append(file.replace('.json',''))"
      ],
      "execution_count": 0,
      "outputs": []
    },
    {
      "cell_type": "code",
      "metadata": {
        "id": "8tZE5dmlThdY",
        "colab_type": "code",
        "colab": {}
      },
      "source": [
        "numbers = []\n",
        "for n in files:\n",
        "    numbers.append(n.replace('_',''))"
      ],
      "execution_count": 0,
      "outputs": []
    },
    {
      "cell_type": "code",
      "metadata": {
        "id": "JdFlNJ7uThdb",
        "colab_type": "code",
        "outputId": "089cf625-1fef-474d-cbfc-4a7a6c536d26",
        "colab": {}
      },
      "source": [
        "for i,j in zip(files,numbers):\n",
        "    print(i,j)\n",
        "    t1 = texto.replace('0_2',i)\n",
        "    string = j+'e'\n",
        "    t2 = t1.replace('02e',string)\n",
        "    exec(t2)"
      ],
      "execution_count": 0,
      "outputs": [
        {
          "output_type": "stream",
          "text": [
            "0_1 01\n",
            "2055/2055 [==============================] - 1s 304us/step\n",
            "0_2 02\n",
            "3317/3317 [==============================] - 0s 28us/step\n",
            "0_3 03\n",
            "4144/4144 [==============================] - 0s 26us/step\n",
            "0_4 04\n",
            "4674/4674 [==============================] - 0s 27us/step\n",
            "0_5 05\n",
            "5065/5065 [==============================] - 0s 28us/step\n",
            "0_6 06\n",
            "5296/5296 [==============================] - 0s 24us/step\n",
            "0_7 07\n",
            "5482/5482 [==============================] - 0s 26us/step\n",
            "0_8 08\n",
            "5579/5579 [==============================] - 0s 31us/step\n",
            "0_9 09\n",
            "5681/5681 [==============================] - 0s 27us/step\n",
            "1_0 10\n",
            "2003/2003 [==============================] - 0s 31us/step\n",
            "1_1 11\n",
            "3319/3319 [==============================] - 0s 33us/step\n",
            "1_2 12\n",
            "4171/4171 [==============================] - 0s 26us/step\n",
            "1_3 13\n",
            "4720/4720 [==============================] - 0s 26us/step\n",
            "1_4 14\n",
            "5081/5081 [==============================] - 0s 28us/step\n",
            "1_5 15\n",
            "5317/5317 [==============================] - 0s 26us/step\n",
            "1_6 16\n",
            "5476/5476 [==============================] - 0s 29us/step\n",
            "1_7 17\n",
            "5621/5621 [==============================] - 0s 33us/step\n",
            "1_8 18\n",
            "5687/5687 [==============================] - 0s 36us/step\n",
            "2_0 20\n",
            "3392/3392 [==============================] - 0s 28us/step\n",
            "2_1 21\n",
            "4203/4203 [==============================] - 0s 26us/step\n",
            "2_2 22\n",
            "4745/4745 [==============================] - 0s 26us/step\n",
            "2_3 23\n",
            "5111/5111 [==============================] - 0s 28us/step\n",
            "2_4 24\n",
            "5340/5340 [==============================] - 0s 26us/step\n",
            "2_5 25\n",
            "5515/5515 [==============================] - 0s 28us/step\n",
            "2_6 26\n",
            "5627/5627 [==============================] - 0s 28us/step\n",
            "2_7 27\n",
            "5701/5701 [==============================] - 0s 30us/step\n",
            "3_0 30\n",
            "4283/4283 [==============================] - 0s 26us/step\n",
            "3_1 31\n",
            "4786/4786 [==============================] - 0s 26us/step\n",
            "3_2 32\n",
            "5140/5140 [==============================] - 0s 24us/step\n",
            "3_3 33\n",
            "5378/5378 [==============================] - 0s 29us/step\n",
            "3_4 34\n",
            "5523/5523 [==============================] - 0s 31us/step\n",
            "3_5 35\n",
            "5635/5635 [==============================] - 0s 36us/step\n",
            "3_6 36\n",
            "5717/5717 [==============================] - 0s 60us/step\n",
            "4_0 40\n",
            "4847/4847 [==============================] - 0s 26us/step\n",
            "4_1 41\n",
            "5158/5158 [==============================] - 0s 27us/step\n",
            "4_2 42\n",
            "5388/5388 [==============================] - 0s 38us/step\n",
            "4_3 43\n",
            "5532/5532 [==============================] - 0s 25us/step\n",
            "4_4 44\n",
            "5659/5659 [==============================] - 0s 30us/step\n",
            "4_5 45\n",
            "5722/5722 [==============================] - 0s 27us/step\n",
            "5_0 50\n",
            "5217/5217 [==============================] - 0s 27us/step\n",
            "5_1 51\n",
            "5412/5412 [==============================] - 0s 26us/step\n",
            "5_2 52\n",
            "5582/5582 [==============================] - 0s 28us/step\n",
            "5_3 53\n",
            "5675/5675 [==============================] - 0s 66us/step\n",
            "5_4 54\n",
            "5741/5741 [==============================] - 0s 27us/step\n",
            "6_0 60\n",
            "5460/5460 [==============================] - 0s 29us/step\n",
            "6_1 61\n",
            "5596/5596 [==============================] - 0s 25us/step\n",
            "6_2 62\n",
            "5682/5682 [==============================] - 0s 25us/step\n",
            "6_3 63\n",
            "5763/5763 [==============================] - 0s 27us/step\n",
            "7_0 70\n",
            "5618/5618 [==============================] - 0s 25us/step\n",
            "7_1 71\n",
            "5716/5716 [==============================] - 0s 25us/step\n",
            "7_2 72\n",
            "5776/5776 [==============================] - 0s 27us/step\n",
            "8_0 80\n",
            "5736/5736 [==============================] - 0s 27us/step\n",
            "8_1 81\n",
            "5774/5774 [==============================] - 0s 27us/step\n",
            "9_0 90\n",
            "5799/5799 [==============================] - 0s 27us/step\n"
          ],
          "name": "stdout"
        }
      ]
    },
    {
      "cell_type": "code",
      "metadata": {
        "id": "iITQM0Q_Thdg",
        "colab_type": "code",
        "colab": {}
      },
      "source": [
        "acc = np.array([acc_01e,acc_02e,acc_03e,acc_04e,acc_05e,acc_06e,acc_07e,acc_08e,acc_09e,acc_10e,acc_11e,acc_12e,acc_13e,acc_14e,acc_15e,acc_16e,acc_17e,acc_18e,acc_20e,acc_21e,acc_22e,acc_23e,acc_24e,acc_25e,acc_26e,acc_27e,acc_30e,acc_31e,acc_32e,acc_33e,acc_34e,acc_35e,acc_36e,acc_40e,acc_41e,acc_42e,acc_43e,acc_44e,acc_45e,acc_50e,acc_51e,acc_52e,acc_53e,acc_54e,acc_60e,acc_61e,acc_62e,acc_63e,acc_70e,acc_71e,acc_72e,acc_80e,acc_81e,acc_90e])"
      ],
      "execution_count": 0,
      "outputs": []
    },
    {
      "cell_type": "code",
      "metadata": {
        "id": "mZzAst-7Thdi",
        "colab_type": "code",
        "colab": {}
      },
      "source": [
        "delete = np.array([delete_01e,delete_02e,delete_03e,delete_04e,delete_05e,delete_06e,delete_07e,delete_08e,delete_09e,delete_10e,delete_11e,delete_12e,delete_13e,delete_14e,delete_15e,delete_16e,delete_17e,delete_18e,delete_20e,delete_21e,delete_22e,delete_23e,delete_24e,delete_25e,delete_26e,delete_27e,delete_30e,delete_31e,delete_32e,delete_33e,delete_34e,delete_35e,delete_36e,delete_40e,delete_41e,delete_42e,delete_43e,delete_44e,delete_45e,delete_50e,delete_51e,delete_52e,delete_53e,delete_54e,delete_60e,delete_61e,delete_62e,delete_63e,delete_70e,delete_71e,delete_72e,delete_80e,delete_81e,delete_90e])"
      ],
      "execution_count": 0,
      "outputs": []
    },
    {
      "cell_type": "code",
      "metadata": {
        "id": "38WVRwxdThdl",
        "colab_type": "code",
        "outputId": "c5b8ce6b-4e1a-41ee-de24-429c6f4f48e2",
        "colab": {}
      },
      "source": [
        "delete"
      ],
      "execution_count": 0,
      "outputs": [
        {
          "output_type": "execute_result",
          "data": {
            "text/plain": [
              "array([19724, 13413,  9280,  6630,  4676,  3518,  2587,  2102,  1594,\n",
              "       19986, 13406,  9146,  6401,  4596,  3416,  2620,  1896,  1565,\n",
              "       13038,  8982,  6275,  4443,  3298,  2422,  1862,  1492,  8584,\n",
              "        6070,  4298,  3110,  2385,  1822,  1414,  5762,  4210,  3061,\n",
              "        2337,  1703,  1389,  3913,  2940,  2089,  1622,  1293,  2699,\n",
              "        2020,  1590,  1184,  1908,  1421,  1120,  1319,  1127,  1006])"
            ]
          },
          "metadata": {
            "tags": []
          },
          "execution_count": 13
        }
      ]
    },
    {
      "cell_type": "code",
      "metadata": {
        "id": "pRldMBWWThdp",
        "colab_type": "code",
        "outputId": "8b4f680b-13de-4c42-cdd1-1c7cd912a7e8",
        "colab": {}
      },
      "source": [
        "p = ['acc_01e','acc_02e','acc_03e','acc_04e','acc_05e','acc_06e','acc_07e','acc_08e','acc_09e','acc_10e','acc_11e','acc_12e','acc_13e','acc_14e','acc_15e','acc_16e','acc_17e','acc_18e','acc_20e','acc_21e','acc_22e','acc_23e','acc_24e','acc_25e','acc_26e','acc_27e','acc_30e','acc_31e','acc_32e','acc_33e','acc_34e','acc_35e','acc_36e','acc_40e','acc_41e','acc_42e','acc_43e','acc_44e','acc_45e','acc_50e','acc_51e','acc_52e','acc_53e','acc_54e','acc_60e','acc_61e','acc_62e','acc_63e','acc_70e','acc_71e','acc_72e','acc_80e','acc_81e','acc_90e']\n",
        "#strings = []\n",
        "\"\"\"for x in p:\n",
        "    strings.append(str(x))\n",
        "strings = np.array(strings)\"\"\""
      ],
      "execution_count": 0,
      "outputs": [
        {
          "output_type": "execute_result",
          "data": {
            "text/plain": [
              "'for x in p:\\n    strings.append(str(x))\\nstrings = np.array(strings)'"
            ]
          },
          "metadata": {
            "tags": []
          },
          "execution_count": 14
        }
      ]
    },
    {
      "cell_type": "code",
      "metadata": {
        "id": "9GZefeEBThds",
        "colab_type": "code",
        "colab": {}
      },
      "source": [
        "peso_cero = ['delete_01e','delete_02e','delete_03e','delete_04e','delete_05e','delete_06e','delete_07e','delete_08e','delete_09e','delete_10e','delete_11e','delete_12e','delete_13e','delete_14e','delete_15e','delete_16e','delete_17e','delete_18e','delete_20e','delete_21e','delete_22e','delete_23e','delete_24e','delete_25e','delete_26e','delete_27e','delete_30e','delete_31e','delete_32e','delete_33e','delete_34e','delete_35e','delete_36e','delete_40e','delete_41e','delete_42e','delete_43e','delete_44e','delete_45e','delete_50e','delete_51e','delete_52e','delete_53e','delete_54e','delete_60e','delete_61e','delete_62e','delete_63e','delete_70e','delete_71e','delete_72e','delete_80e','delete_81e','delete_90e']"
      ],
      "execution_count": 0,
      "outputs": []
    },
    {
      "cell_type": "code",
      "metadata": {
        "id": "NBI6i4Z8Thdv",
        "colab_type": "code",
        "colab": {}
      },
      "source": [
        "fail = 1-acc"
      ],
      "execution_count": 0,
      "outputs": []
    },
    {
      "cell_type": "code",
      "metadata": {
        "id": "1oHLM7blThdx",
        "colab_type": "code",
        "colab": {}
      },
      "source": [
        "output_filename = 'summary_nn_p01.json'\n",
        "output_dict = {}\n",
        "for i in range(len(acc)):\n",
        "    output_dict[str((int(numbers[i][0]),int(numbers[i][1])))] = fail[i]\n",
        "output_json_file = open(output_filename, 'w')\n",
        "json.dump(output_dict, output_json_file)\n",
        "output_json_file.close()"
      ],
      "execution_count": 0,
      "outputs": []
    },
    {
      "cell_type": "code",
      "metadata": {
        "id": "BTHI3S9zThd0",
        "colab_type": "code",
        "colab": {}
      },
      "source": [
        "p_cero = []\n",
        "for name, number in zip(peso_cero,delete):\n",
        "    p_cero.append([name,number])"
      ],
      "execution_count": 0,
      "outputs": []
    },
    {
      "cell_type": "code",
      "metadata": {
        "id": "KHpN575KThd4",
        "colab_type": "code",
        "colab": {}
      },
      "source": [
        "final = []\n",
        "for name, number in zip(p,fail):\n",
        "    final.append([name,number])"
      ],
      "execution_count": 0,
      "outputs": []
    },
    {
      "cell_type": "code",
      "metadata": {
        "id": "Xh-exd02Thd7",
        "colab_type": "code",
        "colab": {}
      },
      "source": [
        "with open(\"results_30mil.txt\", 'w') as output:\n",
        "    for row in final:\n",
        "        output.write(str(row) + '\\n')"
      ],
      "execution_count": 0,
      "outputs": []
    },
    {
      "cell_type": "code",
      "metadata": {
        "id": "wKkWq-lcThd9",
        "colab_type": "code",
        "colab": {}
      },
      "source": [
        "with open(\"peso_cero.txt\", 'w') as output:\n",
        "    for row in p_cero:\n",
        "        output.write(str(row) + '\\n')"
      ],
      "execution_count": 0,
      "outputs": []
    },
    {
      "cell_type": "code",
      "metadata": {
        "id": "jT03GkuHThd_",
        "colab_type": "code",
        "colab": {}
      },
      "source": [
        ""
      ],
      "execution_count": 0,
      "outputs": []
    }
  ]
}